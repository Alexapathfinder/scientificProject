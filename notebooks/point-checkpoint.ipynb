{
 "cells": [
  {
   "cell_type": "markdown",
   "source": [
    "# Вхождение точек в полигон:"
   ],
   "metadata": {
    "collapsed": false
   }
  },
  {
   "cell_type": "markdown",
   "source": [
    "### Шаг 1. Работа с shape - файлом:"
   ],
   "metadata": {
    "collapsed": false
   }
  },
  {
   "cell_type": "code",
   "execution_count": null,
   "outputs": [],
   "source": [
    "import pandas as pd\n",
    "pd.set_option('display.max_columns', 100)\n",
    "from simpledbf import Dbf5\n",
    "import fiona\n",
    "import matplotlib.path as mplPath\n",
    "import numpy as np\n",
    "import re"
   ],
   "metadata": {
    "collapsed": false,
    "pycharm": {
     "name": "#%%\n"
    }
   }
  },
  {
   "cell_type": "markdown",
   "source": [
    "<u/>Открываем файл и пробуем достать координаты любого полигона:"
   ],
   "metadata": {
    "collapsed": false
   }
  },
  {
   "cell_type": "code",
   "execution_count": null,
   "outputs": [],
   "source": [
    "shape = fiona.open(\"C:/Users/User/PycharmProjects/scientificProject/data/Inter-settlement_territories.shp\")\n",
    "\n",
    "#first feature of the shapefile\n",
    "first = shape[1]\n",
    "print(first['geometry']['coordinates'])"
   ],
   "metadata": {
    "collapsed": false,
    "pycharm": {
     "name": "#%%\n"
    }
   }
  },
  {
   "cell_type": "markdown",
   "source": [
    "Для перестраховки откроем файл .dbf и посмотрим, как отображаются полигоны:"
   ],
   "metadata": {
    "collapsed": false
   }
  },
  {
   "cell_type": "code",
   "execution_count": null,
   "outputs": [],
   "source": [
    "dbf = Dbf5(\"C:/Users/User/PycharmProjects/scientificProject/data/Inter-settlement_territories.dbf\")\n",
    "\n",
    "df = dbf.to_dataframe()  # в таблице куча данных. Именно ее надо сравнить с остальными.\n",
    "\n",
    "df"
   ],
   "metadata": {
    "collapsed": false,
    "pycharm": {
     "name": "#%%\n"
    }
   }
  },
  {
   "cell_type": "markdown",
   "source": [
    "Найдем нужный нам полигон по уникальному коду:"
   ],
   "metadata": {
    "collapsed": false
   }
  },
  {
   "cell_type": "code",
   "execution_count": null,
   "outputs": [],
   "source": [
    "df[df['Код'] == 'Б87608000']['Межсе'].tolist()"
   ],
   "metadata": {
    "collapsed": false,
    "pycharm": {
     "name": "#%%\n"
    }
   }
  },
  {
   "cell_type": "markdown",
   "source": [
    "То, что нужно. Теперь вытащим из .shp-файла именно нужный нам полигон:"
   ],
   "metadata": {
    "collapsed": false
   }
  },
  {
   "cell_type": "code",
   "execution_count": null,
   "outputs": [],
   "source": [
    "for i in range(0, len(shape)):\n",
    "    if 'Б87608000' in shape[i]['properties']['Код']:\n",
    "        print(shape[i])"
   ],
   "metadata": {
    "collapsed": false,
    "pycharm": {
     "name": "#%%\n"
    }
   }
  },
  {
   "cell_type": "markdown",
   "source": [
    "Итак, нужный нам полигон имеет id=0. Вытащим координаты этого полигона для дальнейшей работы:"
   ],
   "metadata": {
    "collapsed": false
   }
  },
  {
   "cell_type": "code",
   "execution_count": null,
   "outputs": [],
   "source": [
    "coordinates_0 = shape[0]['geometry']['coordinates']\n",
    "coordinates_0"
   ],
   "metadata": {
    "collapsed": false,
    "pycharm": {
     "name": "#%%\n"
    }
   }
  },
  {
   "cell_type": "markdown",
   "source": [
    "Мы нашли координаты для прорабатывания нашего массива с поиском точек."
   ],
   "metadata": {
    "collapsed": false
   }
  },
  {
   "cell_type": "markdown",
   "source": [
    "### Шаг 2. Работа с точками."
   ],
   "metadata": {
    "collapsed": false
   }
  },
  {
   "cell_type": "markdown",
   "source": [
    "Откроем теперь файл с примерами точек:"
   ],
   "metadata": {
    "collapsed": false
   }
  },
  {
   "cell_type": "code",
   "execution_count": null,
   "outputs": [],
   "source": [
    "exa_points = pd.read_excel('C:/Users/User/Downloads/Telegram Desktop/Примеры точек в полигоне.xlsx')\n",
    "exa_points"
   ],
   "metadata": {
    "collapsed": false,
    "pycharm": {
     "name": "#%%\n"
    }
   }
  },
  {
   "cell_type": "code",
   "execution_count": null,
   "outputs": [],
   "source": [
    "exa_points['Точка']"
   ],
   "metadata": {
    "collapsed": false,
    "pycharm": {
     "name": "#%%\n"
    }
   }
  },
  {
   "cell_type": "markdown",
   "source": [
    "Теперь напишем функцию, где разобьем наши координаты по запятой, чтобы они не были отдельными символами. Далее преобразуем каждую координату в числовой формат и на выходе создадим новый столбец, в который запишем итоговые списки из двух координат:"
   ],
   "metadata": {
    "collapsed": false
   }
  },
  {
   "cell_type": "code",
   "execution_count": null,
   "outputs": [],
   "source": [
    "def string_to_float(row):\n",
    "    point = row['Точка']     # идентифицируем нужную точку\n",
    "    point = re.split(r'[,\\s]+', point)     # при помощи регулярных выражений разделим значения по запятой\n",
    "    new_point = [float(x) for x in point]   # переведем каждое значение в формат чисел\n",
    "    return new_point"
   ],
   "metadata": {
    "collapsed": false,
    "pycharm": {
     "name": "#%%\n"
    }
   }
  },
  {
   "cell_type": "code",
   "execution_count": null,
   "outputs": [],
   "source": [
    "exa_points['Точка числовой формат'] = exa_points.apply(string_to_float, axis=1)"
   ],
   "metadata": {
    "collapsed": false,
    "pycharm": {
     "name": "#%%\n"
    }
   }
  },
  {
   "cell_type": "code",
   "execution_count": null,
   "outputs": [],
   "source": [
    "exa_points"
   ],
   "metadata": {
    "collapsed": false,
    "pycharm": {
     "name": "#%%\n"
    }
   }
  },
  {
   "cell_type": "markdown",
   "source": [
    "Супер! Теперь напишем код для идентификации точек внутри полигона или снаружи."
   ],
   "metadata": {
    "collapsed": false
   }
  },
  {
   "cell_type": "markdown",
   "source": [
    "### Шаг 3. Проверка вхождения точки в полигон."
   ],
   "metadata": {
    "collapsed": false
   }
  },
  {
   "cell_type": "markdown",
   "source": [
    "Возьмем первую точку:"
   ],
   "metadata": {
    "collapsed": false
   }
  },
  {
   "cell_type": "code",
   "execution_count": null,
   "outputs": [],
   "source": [
    "point_1 = exa_points['Точка числовой формат'][3]\n",
    "point_1"
   ],
   "metadata": {
    "collapsed": false,
    "pycharm": {
     "name": "#%%\n"
    }
   }
  },
  {
   "cell_type": "markdown",
   "source": [
    "Точка готова к работе. Посмотрим на вхождение точки в полигон:"
   ],
   "metadata": {
    "collapsed": false
   }
  },
  {
   "cell_type": "code",
   "execution_count": null,
   "outputs": [],
   "source": [
    "def find_point(coordinates_polygon, coord_point):\n",
    "    lst = []\n",
    "    lst_for_point = []\n",
    "    \n",
    "    for i in range(len(coordinates_polygon)):\n",
    "        lst.append(coordinates_polygon[i][0])\n",
    "    \n",
    "    for polygon in range(len(lst)):\n",
    "        bbPath = mplPath.Path(lst[polygon])    \n",
    "        lst_for_point.append(bbPath.contains_point(coord_point))\n",
    "    if \"True\" in lst_for_point:\n",
    "        return \"Точка на территории полигона\"\n",
    "    else:\n",
    "        return \"Точки нет\""
   ],
   "metadata": {
    "collapsed": false,
    "pycharm": {
     "name": "#%%\n"
    }
   }
  },
  {
   "cell_type": "code",
   "execution_count": null,
   "outputs": [],
   "source": [
    "find_point(coordinates_0, [52.500210,62.923217])"
   ],
   "metadata": {
    "collapsed": false,
    "pycharm": {
     "name": "#%%\n"
    }
   }
  },
  {
   "cell_type": "code",
   "execution_count": null,
   "outputs": [],
   "source": [
    "find_point(coordinates_0, exa_points['Точка числовой формат'][1])"
   ],
   "metadata": {
    "collapsed": false,
    "pycharm": {
     "name": "#%%\n"
    }
   }
  },
  {
   "cell_type": "code",
   "execution_count": null,
   "outputs": [],
   "source": [
    "find_point(coordinates_0, exa_points['Точка числовой формат'][2])"
   ],
   "metadata": {
    "collapsed": false,
    "pycharm": {
     "name": "#%%\n"
    }
   }
  },
  {
   "cell_type": "code",
   "execution_count": null,
   "outputs": [],
   "source": [
    "find_point(coordinates_0, exa_points['Точка числовой формат'][3])"
   ],
   "metadata": {
    "collapsed": false,
    "pycharm": {
     "name": "#%%\n"
    }
   }
  },
  {
   "cell_type": "code",
   "execution_count": null,
   "outputs": [],
   "source": [
    "find_point(coordinates_0, exa_points['Точка числовой формат'][4])"
   ],
   "metadata": {
    "collapsed": false,
    "pycharm": {
     "name": "#%%\n"
    }
   }
  },
  {
   "cell_type": "code",
   "execution_count": null,
   "outputs": [],
   "source": [],
   "metadata": {
    "collapsed": false,
    "pycharm": {
     "name": "#%%\n"
    }
   }
  },
  {
   "cell_type": "markdown",
   "source": [
    "Проработаем полигон еще раз. На выходе должен быть список списков:"
   ],
   "metadata": {
    "collapsed": false
   }
  },
  {
   "cell_type": "code",
   "execution_count": null,
   "outputs": [],
   "source": [
    "lst = []\n",
    "for i in range(len(l)):\n",
    "    lst.append(l[i])\n",
    "lst"
   ],
   "metadata": {
    "collapsed": false,
    "pycharm": {
     "name": "#%%\n"
    }
   }
  },
  {
   "cell_type": "code",
   "execution_count": null,
   "outputs": [],
   "source": [
    "l0 = []\n",
    "for i in lst[0]:\n",
    "    i = list(i)\n",
    "    l0.append(i)\n",
    "l0"
   ],
   "metadata": {
    "collapsed": false,
    "pycharm": {
     "name": "#%%\n"
    }
   }
  },
  {
   "cell_type": "code",
   "execution_count": null,
   "outputs": [],
   "source": [
    "l1 = []\n",
    "for i in lst[1]:\n",
    "    i = list(i)\n",
    "    l1.append(i)\n",
    "l1"
   ],
   "metadata": {
    "collapsed": false,
    "pycharm": {
     "name": "#%%\n"
    }
   }
  },
  {
   "cell_type": "code",
   "execution_count": null,
   "outputs": [],
   "source": [
    "l2 = []\n",
    "for i in lst[2]:\n",
    "    i = list(i)\n",
    "    l2.append(i)\n",
    "l2"
   ],
   "metadata": {
    "collapsed": false,
    "pycharm": {
     "name": "#%%\n"
    }
   }
  },
  {
   "cell_type": "code",
   "execution_count": null,
   "outputs": [],
   "source": [
    "l3 = []\n",
    "for i in lst[3]:\n",
    "    i = list(i)\n",
    "    l3.append(i)\n",
    "l3"
   ],
   "metadata": {
    "collapsed": false,
    "pycharm": {
     "name": "#%%\n"
    }
   }
  },
  {
   "cell_type": "code",
   "execution_count": null,
   "outputs": [],
   "source": [
    "l4 = []\n",
    "for i in lst[4]:\n",
    "    i = list(i)\n",
    "    l4.append(i)\n",
    "l4"
   ],
   "metadata": {
    "collapsed": false,
    "pycharm": {
     "name": "#%%\n"
    }
   }
  },
  {
   "cell_type": "code",
   "execution_count": null,
   "outputs": [],
   "source": [
    "l = []\n",
    "l.append(l0)\n",
    "l.append(l1)\n",
    "l.append(l2)\n",
    "l.append(l3)\n",
    "l.append(l4)\n",
    "l"
   ],
   "metadata": {
    "collapsed": false,
    "pycharm": {
     "name": "#%%\n"
    }
   }
  },
  {
   "cell_type": "code",
   "execution_count": null,
   "outputs": [],
   "source": [
    "lst_for_point = []\n",
    "for polygon in range(len(l)):\n",
    "    bbPath = mplPath.Path(np.array(l[polygon]))    \n",
    "    lst_for_point.append(bbPath.contains_point(exa_points['Точка числовой формат'][2]))\n",
    "if \"True\" in lst_for_point:\n",
    "    print(\"Точка на территории полигона\")\n",
    "else:\n",
    "    print(\"Точки нет\")"
   ],
   "metadata": {
    "collapsed": false,
    "pycharm": {
     "name": "#%%\n"
    }
   }
  },
  {
   "cell_type": "code",
   "execution_count": null,
   "outputs": [],
   "source": [
    "for polygon in range(len(l)):\n",
    "    print(np.array(l[polygon])) "
   ],
   "metadata": {
    "collapsed": false,
    "pycharm": {
     "name": "#%%\n"
    }
   }
  },
  {
   "cell_type": "code",
   "execution_count": null,
   "outputs": [],
   "source": [
    "np.array(l[1])"
   ],
   "metadata": {
    "collapsed": false,
    "pycharm": {
     "name": "#%%\n"
    }
   }
  },
  {
   "cell_type": "code",
   "execution_count": null,
   "outputs": [],
   "source": [],
   "metadata": {
    "collapsed": false,
    "pycharm": {
     "name": "#%%\n"
    }
   }
  },
  {
   "cell_type": "code",
   "execution_count": null,
   "outputs": [],
   "source": [
    "exa_points['Точка числовой формат'][3]"
   ],
   "metadata": {
    "collapsed": false,
    "pycharm": {
     "name": "#%%\n"
    }
   }
  },
  {
   "cell_type": "code",
   "execution_count": null,
   "outputs": [],
   "source": [
    "crd = np.array(l1)# poly\n",
    "bbPath = mplPath.Path(crd)\n",
    "pnts = [[52.500210,62.923217]] # points on edges\n",
    "r = 0.001 # accuracy\n",
    "isIn = [ bbPath.contains_point(pnt,radius=r) or bbPath.contains_point(pnt,radius=-r) for pnt in pnts]\n",
    "isIn"
   ],
   "metadata": {
    "collapsed": false,
    "pycharm": {
     "name": "#%%\n"
    }
   }
  },
  {
   "cell_type": "code",
   "execution_count": null,
   "outputs": [],
   "source": [],
   "metadata": {
    "collapsed": false,
    "pycharm": {
     "name": "#%%\n"
    }
   }
  },
  {
   "cell_type": "code",
   "execution_count": null,
   "outputs": [],
   "source": [],
   "metadata": {
    "collapsed": false,
    "pycharm": {
     "name": "#%%\n"
    }
   }
  },
  {
   "cell_type": "code",
   "execution_count": null,
   "outputs": [],
   "source": [
    "crd = np.array([[0,0], [0,1], [1,1], [1,0]])# poly\n",
    "bbPath = mplPath.Path(crd)\n",
    "pnts = [[0.0, 0.0],[1,1],[0.0,0.5],[0.5,0.0]] # points on edges\n",
    "r = 0.001 # accuracy\n",
    "isIn = [ bbPath.contains_point(pnt,radius=r) or bbPath.contains_point(pnt,radius=-r) for pnt in pnts]\n",
    "isIn"
   ],
   "metadata": {
    "collapsed": false,
    "pycharm": {
     "name": "#%%\n"
    }
   }
  },
  {
   "cell_type": "code",
   "execution_count": null,
   "outputs": [],
   "source": [],
   "metadata": {
    "collapsed": false,
    "pycharm": {
     "name": "#%%\n"
    }
   }
  },
  {
   "cell_type": "code",
   "execution_count": null,
   "outputs": [],
   "source": [
    "52.500210,62.923217"
   ],
   "metadata": {
    "collapsed": false,
    "pycharm": {
     "name": "#%%\n"
    }
   }
  },
  {
   "cell_type": "code",
   "execution_count": null,
   "outputs": [],
   "source": [],
   "metadata": {
    "collapsed": false,
    "pycharm": {
     "name": "#%%\n"
    }
   }
  },
  {
   "cell_type": "code",
   "execution_count": null,
   "outputs": [],
   "source": [],
   "metadata": {
    "collapsed": false,
    "pycharm": {
     "name": "#%%\n"
    }
   }
  },
  {
   "cell_type": "code",
   "execution_count": null,
   "outputs": [],
   "source": [],
   "metadata": {
    "collapsed": false,
    "pycharm": {
     "name": "#%%\n"
    }
   }
  },
  {
   "cell_type": "code",
   "execution_count": null,
   "outputs": [],
   "source": [],
   "metadata": {
    "collapsed": false,
    "pycharm": {
     "name": "#%%\n"
    }
   }
  },
  {
   "cell_type": "code",
   "execution_count": null,
   "outputs": [],
   "source": [],
   "metadata": {
    "collapsed": false,
    "pycharm": {
     "name": "#%%\n"
    }
   }
  },
  {
   "cell_type": "code",
   "execution_count": null,
   "outputs": [],
   "source": [],
   "metadata": {
    "collapsed": false,
    "pycharm": {
     "name": "#%%\n"
    }
   }
  },
  {
   "cell_type": "code",
   "execution_count": null,
   "outputs": [],
   "source": [],
   "metadata": {
    "collapsed": false,
    "pycharm": {
     "name": "#%%\n"
    }
   }
  },
  {
   "cell_type": "code",
   "execution_count": null,
   "outputs": [],
   "source": [
    "def point_inside_polygon(x, y, poly, include_edges=True):\n",
    "    '''\n",
    "    Test if point (x,y) is inside polygon poly.\n",
    "\n",
    "\n",
    "    poly is N-vertices polygon defined as \n",
    "    [(x1,y1),...,(xN,yN)] or [(x1,y1),...,(xN,yN),(x1,y1)]\n",
    "    (function works fine in both cases)\n",
    "\n",
    "\n",
    "\n",
    "    Geometrical idea: point is inside polygon if horisontal beam\n",
    "    to the right from point crosses polygon even number of times. \n",
    "    Works fine for non-convex polygons.\n",
    "    '''\n",
    "    n = len(poly)\n",
    "    inside = False\n",
    "\n",
    "\n",
    "\n",
    "    p1x, p1y = poly[0]\n",
    "    for i in range(1, n + 1):\n",
    "        p2x, p2y = poly[i % n]\n",
    "        if p1y == p2y:\n",
    "            if y == p1y:\n",
    "                if min(p1x, p2x) <= x <= max(p1x, p2x):\n",
    "                    # point is on horisontal edge\n",
    "                    inside = include_edges\n",
    "                    break\n",
    "                elif x < min(p1x, p2x):  # point is to the left from current edge\n",
    "                    inside = not inside\n",
    "        else:  # p1y!= p2y\n",
    "            if min(p1y, p2y) <= y <= max(p1y, p2y):\n",
    "                xinters = (y - p1y) * (p2x - p1x) / float(p2y - p1y) + p1x\n",
    "\n",
    "\n",
    "\n",
    "                if x == xinters:  # point is right on the edge\n",
    "                    inside = include_edges\n",
    "                    break\n",
    "\n",
    "\n",
    "\n",
    "                if x < xinters:  # point is to the left from current edge\n",
    "                    inside = not inside\n",
    "\n",
    "\n",
    "\n",
    "        p1x, p1y = p2x, p2y\n",
    "\n",
    "\n",
    "\n",
    "    return inside"
   ],
   "metadata": {
    "collapsed": false,
    "pycharm": {
     "name": "#%%\n"
    }
   }
  },
  {
   "cell_type": "code",
   "execution_count": null,
   "outputs": [],
   "source": [
    "point_inside_polygon(63.250082, 52.639075, l4)"
   ],
   "metadata": {
    "collapsed": false,
    "pycharm": {
     "name": "#%%\n"
    }
   }
  },
  {
   "cell_type": "code",
   "execution_count": null,
   "outputs": [],
   "source": [
    "exa_points['Точка числовой формат'][4]"
   ],
   "metadata": {
    "collapsed": false,
    "pycharm": {
     "name": "#%%\n"
    }
   }
  },
  {
   "cell_type": "code",
   "execution_count": null,
   "outputs": [],
   "source": [
    "coordinates_0[0]"
   ],
   "metadata": {
    "collapsed": false,
    "pycharm": {
     "name": "#%%\n"
    }
   }
  },
  {
   "cell_type": "code",
   "execution_count": null,
   "outputs": [],
   "source": [],
   "metadata": {
    "collapsed": false,
    "pycharm": {
     "name": "#%%\n"
    }
   }
  },
  {
   "cell_type": "code",
   "execution_count": null,
   "outputs": [],
   "source": [],
   "metadata": {
    "collapsed": false,
    "pycharm": {
     "name": "#%%\n"
    }
   }
  },
  {
   "cell_type": "code",
   "execution_count": null,
   "outputs": [],
   "source": [],
   "metadata": {
    "collapsed": false,
    "pycharm": {
     "name": "#%%\n"
    }
   }
  },
  {
   "cell_type": "code",
   "execution_count": null,
   "outputs": [],
   "source": [],
   "metadata": {
    "collapsed": false,
    "pycharm": {
     "name": "#%%\n"
    }
   }
  },
  {
   "cell_type": "code",
   "execution_count": null,
   "outputs": [],
   "source": [],
   "metadata": {
    "collapsed": false,
    "pycharm": {
     "name": "#%%\n"
    }
   }
  },
  {
   "cell_type": "markdown",
   "source": [
    "У нас список списков. Попробуем конкретизировать:"
   ],
   "metadata": {
    "collapsed": false
   }
  },
  {
   "cell_type": "code",
   "execution_count": null,
   "outputs": [],
   "source": [
    "coor_0 = coordinates_0[0]\n",
    "coor_0"
   ],
   "metadata": {
    "collapsed": false,
    "pycharm": {
     "name": "#%%\n"
    }
   }
  },
  {
   "cell_type": "code",
   "execution_count": null,
   "outputs": [],
   "source": [
    "coor_0[0][0]"
   ],
   "metadata": {
    "collapsed": false,
    "pycharm": {
     "name": "#%%\n"
    }
   }
  },
  {
   "cell_type": "markdown",
   "source": [
    "А сколько таких списков?"
   ],
   "metadata": {
    "collapsed": false
   }
  },
  {
   "cell_type": "code",
   "execution_count": null,
   "outputs": [],
   "source": [
    "len(coordinates_0)"
   ],
   "metadata": {
    "collapsed": false,
    "pycharm": {
     "name": "#%%\n"
    }
   }
  },
  {
   "cell_type": "markdown",
   "source": [
    "Ок. Теперь пройдемся по каждому из пяти списков координат, чтобы идентифицировать вхождение точки в полигон (в одну из 5 частей полигона):"
   ],
   "metadata": {
    "collapsed": false
   }
  },
  {
   "cell_type": "code",
   "execution_count": null,
   "outputs": [],
   "source": [
    "# def point_inside_polygon(x, y, poly, include_edges=True):\n",
    "#     '''\n",
    "#     Test if point (x,y) is inside polygon poly.\n",
    "\n",
    "\n",
    "#     poly is N-vertices polygon defined as \n",
    "#     [(x1,y1),...,(xN,yN)] or [(x1,y1),...,(xN,yN),(x1,y1)]\n",
    "#     (function works fine in both cases)\n",
    "\n",
    "\n",
    "\n",
    "#     Geometrical idea: point is inside polygon if horisontal beam\n",
    "#     to the right from point crosses polygon even number of times. \n",
    "#     Works fine for non-convex polygons.\n",
    "#     '''\n",
    "#     n = len(poly)\n",
    "#     inside = False\n",
    "   \n",
    "#     p1x, p1y = poly[0]     # получаем координаты х и у\n",
    "    \n",
    "\n",
    "#     for i in range(1, n + 1):\n",
    "#         p2x, p2y = poly[i % n]   # учитываем вероятность отклонения\n",
    "        \n",
    "#         if p1y == p2y:        \n",
    "#             if y == p1y:\n",
    "#                 if min(p1x, p2x) <= x <= max(p1x, p2x):\n",
    "#                     # точка находится на границе полигона\n",
    "#                     inside = include_edges\n",
    "#                     break\n",
    "#                 elif x < min(p1x, p2x):  # точка снаружи полигона\n",
    "#                     inside = not inside\n",
    "#         else:  # p1y!= p2y\n",
    "#             if min(p1y, p2y) <= y <= max(p1y, p2y):\n",
    "#                 xinters = (y - p1y) * (p2x - p1x) / float(p2y - p1y) + p1x\n",
    "\n",
    "\n",
    "#                 if x == xinters:  # если точка на границе полигона\n",
    "#                     inside = include_edges\n",
    "#                     break\n",
    "\n",
    "\n",
    "\n",
    "#                 if x < xinters:  # точка снаружи полигона\n",
    "#                     inside = not inside\n",
    "\n",
    "\n",
    "\n",
    "#         p1x, p1y = p2x, p2y\n",
    "\n",
    "\n",
    "\n",
    "#     return inside"
   ],
   "metadata": {
    "collapsed": false,
    "pycharm": {
     "name": "#%%\n"
    }
   }
  },
  {
   "cell_type": "code",
   "execution_count": null,
   "outputs": [],
   "source": [
    "# point_inside_polygon(52.500210,62.923217, coordinates_0[1][0])"
   ],
   "metadata": {
    "collapsed": false,
    "pycharm": {
     "name": "#%%\n"
    }
   }
  },
  {
   "cell_type": "code",
   "execution_count": null,
   "outputs": [],
   "source": [],
   "metadata": {
    "collapsed": false,
    "pycharm": {
     "name": "#%%\n"
    }
   }
  },
  {
   "cell_type": "code",
   "execution_count": null,
   "outputs": [],
   "source": [],
   "metadata": {
    "collapsed": false,
    "pycharm": {
     "name": "#%%\n"
    }
   }
  },
  {
   "cell_type": "code",
   "execution_count": null,
   "outputs": [],
   "source": [],
   "metadata": {
    "collapsed": false,
    "pycharm": {
     "name": "#%%\n"
    }
   }
  },
  {
   "cell_type": "code",
   "execution_count": null,
   "outputs": [],
   "source": [
    "def find_point(x, y, poly, include_edges=True):\n",
    "    '''\n",
    "    Test if point (x,y) is inside polygon poly.\n",
    "\n",
    "\n",
    "    poly is N-vertices polygon defined as \n",
    "    [(x1,y1),...,(xN,yN)] or [(x1,y1),...,(xN,yN),(x1,y1)]\n",
    "    (function works fine in both cases)\n",
    "\n",
    "\n",
    "\n",
    "    Geometrical idea: point is inside polygon if horisontal beam\n",
    "    to the right from point crosses polygon even number of times. \n",
    "    Works fine for non-convex polygons.\n",
    "    '''\n",
    "    lst = []\n",
    "    for value in range(len(poly)):\n",
    "        poly = poly[value][0]\n",
    "    return poly\n",
    "#         n = len(poly)\n",
    "#         inside = False\n",
    "#     return poly\n",
    "#         p1x, p1y = poly[0]     # получаем координаты х и у\n",
    "\n",
    "#     return p1x, p1y\n",
    "#         for i in range(1, n + 1):\n",
    "#             p2x, p2y = poly[i % n]   # учитываем вероятность отклонения\n",
    "\n",
    "#             if p1y == p2y:        \n",
    "#                 if y == p1y:\n",
    "#                     if min(p1x, p2x) <= x <= max(p1x, p2x):\n",
    "#                         # точка находится на границе полигона\n",
    "#                         inside = include_edges\n",
    "#                         break\n",
    "#                     elif x < min(p1x, p2x):  # точка снаружи полигона\n",
    "#                         inside = not inside\n",
    "#             else:  # p1y!= p2y\n",
    "#                 if min(p1y, p2y) <= y <= max(p1y, p2y):\n",
    "#                     xinters = (y - p1y) * (p2x - p1x) / float(p2y - p1y) + p1x\n",
    "\n",
    "\n",
    "#                     if x == xinters:  # если точка на границе полигона\n",
    "#                         inside = include_edges\n",
    "#                         break\n",
    "\n",
    "\n",
    "\n",
    "#                     if x < xinters:  # точка снаружи полигона\n",
    "#                         inside = not inside\n",
    "\n",
    "#             p1x, p1y = p2x, p2y\n",
    "\n",
    "#             lst.append(inside)\n",
    "#     if \"True\" in lst:\n",
    "#         return \"True\"\n",
    "\n",
    "#     return \"False\""
   ],
   "metadata": {
    "collapsed": false,
    "pycharm": {
     "name": "#%%\n"
    }
   }
  },
  {
   "cell_type": "code",
   "execution_count": null,
   "outputs": [],
   "source": [
    "find_point(52.500210,62.923217, coordinates_0[1][0])"
   ],
   "metadata": {
    "collapsed": false,
    "pycharm": {
     "name": "#%%\n"
    }
   }
  },
  {
   "cell_type": "code",
   "execution_count": null,
   "outputs": [],
   "source": [
    "len(coordinates_0)"
   ],
   "metadata": {
    "collapsed": false,
    "pycharm": {
     "name": "#%%\n"
    }
   }
  },
  {
   "cell_type": "code",
   "execution_count": null,
   "outputs": [],
   "source": [
    "for value in range(len(coordinates_0)):\n",
    "        poly = coordinates_0\n",
    "        print(poly)"
   ],
   "metadata": {
    "collapsed": false,
    "pycharm": {
     "name": "#%%\n"
    }
   }
  },
  {
   "cell_type": "code",
   "execution_count": null,
   "outputs": [],
   "source": [
    "poly"
   ],
   "metadata": {
    "collapsed": false,
    "pycharm": {
     "name": "#%%\n"
    }
   }
  },
  {
   "cell_type": "code",
   "execution_count": null,
   "outputs": [],
   "source": [],
   "metadata": {
    "collapsed": false,
    "pycharm": {
     "name": "#%%\n"
    }
   }
  },
  {
   "cell_type": "code",
   "execution_count": null,
   "outputs": [],
   "source": [],
   "metadata": {
    "collapsed": false,
    "pycharm": {
     "name": "#%%\n"
    }
   }
  },
  {
   "cell_type": "code",
   "execution_count": null,
   "outputs": [],
   "source": [],
   "metadata": {
    "collapsed": false,
    "pycharm": {
     "name": "#%%\n"
    }
   }
  },
  {
   "cell_type": "code",
   "execution_count": null,
   "outputs": [],
   "source": [],
   "metadata": {
    "collapsed": false,
    "pycharm": {
     "name": "#%%\n"
    }
   }
  },
  {
   "cell_type": "code",
   "execution_count": null,
   "outputs": [],
   "source": [],
   "metadata": {
    "collapsed": false,
    "pycharm": {
     "name": "#%%\n"
    }
   }
  },
  {
   "cell_type": "code",
   "execution_count": null,
   "outputs": [],
   "source": [],
   "metadata": {
    "collapsed": false,
    "pycharm": {
     "name": "#%%\n"
    }
   }
  },
  {
   "cell_type": "code",
   "execution_count": null,
   "outputs": [],
   "source": [],
   "metadata": {
    "collapsed": false,
    "pycharm": {
     "name": "#%%\n"
    }
   }
  },
  {
   "cell_type": "code",
   "execution_count": null,
   "outputs": [],
   "source": [],
   "metadata": {
    "collapsed": false,
    "pycharm": {
     "name": "#%%\n"
    }
   }
  },
  {
   "cell_type": "code",
   "execution_count": null,
   "outputs": [],
   "source": [],
   "metadata": {
    "collapsed": false,
    "pycharm": {
     "name": "#%%\n"
    }
   }
  },
  {
   "cell_type": "code",
   "execution_count": null,
   "outputs": [],
   "source": [],
   "metadata": {
    "collapsed": false,
    "pycharm": {
     "name": "#%%\n"
    }
   }
  },
  {
   "cell_type": "code",
   "execution_count": null,
   "outputs": [],
   "source": [],
   "metadata": {
    "collapsed": false,
    "pycharm": {
     "name": "#%%\n"
    }
   }
  },
  {
   "cell_type": "code",
   "execution_count": null,
   "outputs": [],
   "source": [],
   "metadata": {
    "collapsed": false,
    "pycharm": {
     "name": "#%%\n"
    }
   }
  },
  {
   "cell_type": "code",
   "execution_count": null,
   "outputs": [],
   "source": [],
   "metadata": {
    "collapsed": false,
    "pycharm": {
     "name": "#%%\n"
    }
   }
  }
 ],
 "metadata": {
  "kernelspec": {
   "display_name": "Python 3",
   "language": "python",
   "name": "python3"
  },
  "language_info": {
   "codemirror_mode": {
    "name": "ipython",
    "version": 3
   },
   "file_extension": ".py",
   "mimetype": "text/x-python",
   "name": "python",
   "nbconvert_exporter": "python",
   "pygments_lexer": "ipython3",
   "version": "3.8.5"
  }
 },
 "nbformat": 4,
 "nbformat_minor": 1
}